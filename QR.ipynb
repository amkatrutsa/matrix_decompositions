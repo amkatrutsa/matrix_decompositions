{
 "cells": [
  {
   "cell_type": "markdown",
   "metadata": {},
   "source": [
    "# QR factorization"
   ]
  },
  {
   "cell_type": "markdown",
   "metadata": {},
   "source": [
    "Let $A \\in \\mathbb{C}^{m \\times n}, \\; m > n$ be a complex rectangular matrix.\n",
    "Then there exists its QR factorization\n",
    "$$\n",
    "A = QR,\n",
    "$$\n",
    "where columns of Q are orthogonal $Q^*Q = I$ and $R$ is upper triangular. "
   ]
  },
  {
   "cell_type": "code",
   "execution_count": 1,
   "metadata": {
    "collapsed": true
   },
   "outputs": [],
   "source": [
    "import numpy as np\n",
    "%matplotlib inline\n",
    "import matplotlib.pyplot as plt\n",
    "from numba import jit"
   ]
  },
  {
   "cell_type": "code",
   "execution_count": 239,
   "metadata": {
    "collapsed": true
   },
   "outputs": [],
   "source": [
    "n = 500\n",
    "m = 1000\n",
    "A = np.zeros((m, n), dtype=np.complex128)\n",
    "A.real = np.random.randn(m, n)\n",
    "A.imag = np.random.randn(m, n)\n",
    "# A = np.random.rand(m, n)"
   ]
  },
  {
   "cell_type": "code",
   "execution_count": 240,
   "metadata": {},
   "outputs": [
    {
     "data": {
      "text/plain": [
       "8.0217201474812237e-13"
      ]
     },
     "execution_count": 240,
     "metadata": {},
     "output_type": "execute_result"
    }
   ],
   "source": [
    "Q, R = np.linalg.qr(A)\n",
    "np.linalg.norm(A - Q.dot(R))"
   ]
  },
  {
   "cell_type": "code",
   "execution_count": 241,
   "metadata": {},
   "outputs": [
    {
     "name": "stdout",
     "output_type": "stream",
     "text": [
      "(1000, 500)\n",
      "(500, 500)\n"
     ]
    }
   ],
   "source": [
    "print(Q.shape)\n",
    "print(R.shape)"
   ]
  },
  {
   "cell_type": "code",
   "execution_count": 242,
   "metadata": {
    "collapsed": true
   },
   "outputs": [],
   "source": [
    "def QR_MGS(A):\n",
    "    m, n = A.shape\n",
    "    if m <= n:\n",
    "        Q = np.zeros((m, m), dtype=A.dtype)\n",
    "        R = np.zeros_like(A)\n",
    "    else:\n",
    "        Q = np.zeros_like(A)\n",
    "        R = np.zeros((n, n), dtype=A.dtype)\n",
    "    V = A.copy()\n",
    "    for i in range(min(m, n)):\n",
    "        R[i, i] = np.linalg.norm(V[:, i])\n",
    "        Q[:, i] = V[:, i] / R[i, i]\n",
    "        for j in range(i+1, n):\n",
    "            R[i, j] = Q[:, i].conj().dot(V[:, j])\n",
    "            V[:, j] = V[:, j] - R[i, j] * Q[:, i]\n",
    "    return Q, R"
   ]
  },
  {
   "cell_type": "code",
   "execution_count": 279,
   "metadata": {},
   "outputs": [
    {
     "name": "stdout",
     "output_type": "stream",
     "text": [
      "(1000, 500) (500, 500)\n",
      "7.20516414212e-13\n"
     ]
    }
   ],
   "source": [
    "Q_mgs, R_mgs = QR_MGS(A)\n",
    "print(Q_mgs.shape, R_mgs.shape)\n",
    "print(np.linalg.norm(A - Q_mgs.dot(R_mgs)))"
   ]
  },
  {
   "cell_type": "code",
   "execution_count": 253,
   "metadata": {},
   "outputs": [
    {
     "name": "stdout",
     "output_type": "stream",
     "text": [
      "3.63 s ± 233 ms per loop (mean ± std. dev. of 7 runs, 1 loop each)\n"
     ]
    }
   ],
   "source": [
    "%timeit QR_MGS(A)"
   ]
  },
  {
   "cell_type": "code",
   "execution_count": 244,
   "metadata": {},
   "outputs": [
    {
     "data": {
      "text/plain": [
       "<matplotlib.colorbar.Colorbar at 0x7f5b261687f0>"
      ]
     },
     "execution_count": 244,
     "metadata": {},
     "output_type": "execute_result"
    },
    {
     "data": {
      "image/png": "[encoded data removed]",
      "text/plain": [
       "<matplotlib.figure.Figure at 0x7f5b261e6b70>"
      ]
     },
     "metadata": {},
     "output_type": "display_data"
    }
   ],
   "source": [
    "plt.imshow(R_mgs.real != 0)\n",
    "plt.colorbar()"
   ]
  },
  {
   "cell_type": "code",
   "execution_count": 245,
   "metadata": {},
   "outputs": [
    {
     "data": {
      "text/plain": [
       "1.6062635260146115e-14"
      ]
     },
     "execution_count": 245,
     "metadata": {},
     "output_type": "execute_result"
    }
   ],
   "source": [
    "np.linalg.norm(Q_mgs.conj().T.dot(Q_mgs).real - np.eye(Q_mgs.shape[1]))"
   ]
  },
  {
   "cell_type": "code",
   "execution_count": 277,
   "metadata": {},
   "outputs": [],
   "source": [
    "def QR_House(A):\n",
    "    m, n = A.shape\n",
    "    Q = np.eye(m, dtype=A.dtype)\n",
    "    R = A.copy()\n",
    "    for i in range(min(n, m)):\n",
    "        y = R[i:, i].copy()\n",
    "        s = y[0] / np.linalg.norm(y[0])\n",
    "        norm = np.linalg.norm(y)\n",
    "        y[0] += s * norm\n",
    "        w = y / np.linalg.norm(y)\n",
    "        w = np.reshape(w, (w.shape[0], 1))\n",
    "        wTR = w.conj().T.dot(R[i:, i:])\n",
    "        R[i:, i:] = R[i:, i:] - 2 * w.dot(wTR)\n",
    "        Qw = Q[:, i:].dot(w)\n",
    "        Q[:, i:] = Q[:, i:] - 2 * Qw.dot(w.conj().T) \n",
    "    return Q, R"
   ]
  },
  {
   "cell_type": "code",
   "execution_count": 278,
   "metadata": {},
   "outputs": [
    {
     "name": "stdout",
     "output_type": "stream",
     "text": [
      "(1000, 1000) (1000, 500)\n",
      "2.47500169729e-12\n"
     ]
    }
   ],
   "source": [
    "Q_h, R_h = QR_House(A)\n",
    "print(Q_h.shape, R_h.shape)\n",
    "print(np.linalg.norm(Q_h.dot(R_h) - A))"
   ]
  },
  {
   "cell_type": "code",
   "execution_count": 267,
   "metadata": {},
   "outputs": [
    {
     "name": "stdout",
     "output_type": "stream",
     "text": [
      "8.03 s ± 147 ms per loop (mean ± std. dev. of 7 runs, 1 loop each)\n"
     ]
    }
   ],
   "source": [
    "%timeit QR_House(A)"
   ]
  },
  {
   "cell_type": "code",
   "execution_count": 248,
   "metadata": {},
   "outputs": [
    {
     "data": {
      "text/plain": [
       "<matplotlib.colorbar.Colorbar at 0x7f5b2604f470>"
      ]
     },
     "execution_count": 248,
     "metadata": {},
     "output_type": "execute_result"
    },
    {
     "data": {
      "image/png": "[encoded data removed]",
      "text/plain": [
       "<matplotlib.figure.Figure at 0x7f5b260e7dd8>"
      ]
     },
     "metadata": {},
     "output_type": "display_data"
    }
   ],
   "source": [
    "plt.imshow(abs(R_h.real) > 1e-10)\n",
    "plt.colorbar()"
   ]
  },
  {
   "cell_type": "code",
   "execution_count": 249,
   "metadata": {},
   "outputs": [
    {
     "data": {
      "text/plain": [
       "5.704003156698151e-14"
      ]
     },
     "execution_count": 249,
     "metadata": {},
     "output_type": "execute_result"
    }
   ],
   "source": [
    "np.linalg.norm(Q_h.conj().T.dot(Q_h).real - np.eye(Q_h.shape[1]))"
   ]
  },
  {
   "cell_type": "code",
   "execution_count": null,
   "metadata": {
    "collapsed": true
   },
   "outputs": [],
   "source": []
  },
  {
   "cell_type": "code",
   "execution_count": null,
   "metadata": {
    "collapsed": true
   },
   "outputs": [],
   "source": []
  },
  {
   "cell_type": "code",
   "execution_count": null,
   "metadata": {
    "collapsed": true
   },
   "outputs": [],
   "source": []
  }
 ],
 "metadata": {
  "kernelspec": {
   "display_name": "Python [conda env:p3]",
   "language": "python",
   "name": "conda-env-p3-py"
  },
  "language_info": {
   "codemirror_mode": {
    "name": "ipython",
    "version": 3
   },
   "file_extension": ".py",
   "mimetype": "text/x-python",
   "name": "python",
   "nbconvert_exporter": "python",
   "pygments_lexer": "ipython3",
   "version": "3.6.0"
  }
 },
 "nbformat": 4,
 "nbformat_minor": 2
}
